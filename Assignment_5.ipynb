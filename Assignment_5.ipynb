{
 "cells": [
  {
   "cell_type": "code",
   "execution_count": 1,
   "metadata": {},
   "outputs": [],
   "source": [
    "import pandas as pd\n",
    "import matplotlib "
   ]
  },
  {
   "cell_type": "code",
   "execution_count": 2,
   "metadata": {},
   "outputs": [],
   "source": [
    "raw_data = pd.read_csv(\"survey.csv\")"
   ]
  },
  {
   "cell_type": "code",
   "execution_count": 3,
   "metadata": {},
   "outputs": [
    {
     "name": "stdout",
     "output_type": "stream",
     "text": [
      "          Timestamp  Age  Gender         Country state self_employed  \\\n",
      "0  2014-08-27 11:29   37  Female   United States    IL           NaN   \n",
      "1  2014-08-27 11:29   44       M   United States    IN           NaN   \n",
      "2  2014-08-27 11:29   32    Male          Canada   NaN           NaN   \n",
      "3  2014-08-27 11:29   31    Male  United Kingdom   NaN           NaN   \n",
      "4  2014-08-27 11:30   31    Male   United States    TX           NaN   \n",
      "\n",
      "  family_history treatment work_interfere    no_employees  ...  \\\n",
      "0             No       Yes          Often          25-Jun  ...   \n",
      "1             No        No         Rarely  More than 1000  ...   \n",
      "2             No        No         Rarely          25-Jun  ...   \n",
      "3            Yes       Yes          Often          26-100  ...   \n",
      "4             No        No          Never         100-500  ...   \n",
      "\n",
      "                leave mental_health_consequence phys_health_consequence  \\\n",
      "0       Somewhat easy                        No                      No   \n",
      "1          Don't know                     Maybe                      No   \n",
      "2  Somewhat difficult                        No                      No   \n",
      "3  Somewhat difficult                       Yes                     Yes   \n",
      "4          Don't know                        No                      No   \n",
      "\n",
      "      coworkers supervisor mental_health_interview phys_health_interview  \\\n",
      "0  Some of them        Yes                      No                 Maybe   \n",
      "1            No         No                      No                    No   \n",
      "2           Yes        Yes                     Yes                   Yes   \n",
      "3  Some of them         No                   Maybe                 Maybe   \n",
      "4  Some of them        Yes                     Yes                   Yes   \n",
      "\n",
      "  mental_vs_physical obs_consequence comments  \n",
      "0                Yes              No      NaN  \n",
      "1         Don't know              No      NaN  \n",
      "2                 No              No      NaN  \n",
      "3                 No             Yes      NaN  \n",
      "4         Don't know              No      NaN  \n",
      "\n",
      "[5 rows x 27 columns]\n"
     ]
    }
   ],
   "source": [
    "print(raw_data.head())"
   ]
  },
  {
   "cell_type": "code",
   "execution_count": 4,
   "metadata": {},
   "outputs": [],
   "source": [
    "# Country\n",
    "unique_Country = raw_data[\"Country\"].drop_duplicates()"
   ]
  },
  {
   "cell_type": "code",
   "execution_count": 5,
   "metadata": {},
   "outputs": [
    {
     "name": "stdout",
     "output_type": "stream",
     "text": [
      "0                United States\n",
      "2                       Canada\n",
      "3               United Kingdom\n",
      "11                    Bulgaria\n",
      "19                      France\n",
      "37                    Portugal\n",
      "43                 Netherlands\n",
      "54                 Switzerland\n",
      "61                      Poland\n",
      "66                   Australia\n",
      "79                     Germany\n",
      "93                      Russia\n",
      "97                      Mexico\n",
      "107                     Brazil\n",
      "129                   Slovenia\n",
      "133                 Costa Rica\n",
      "139                    Austria\n",
      "148                    Ireland\n",
      "172                      India\n",
      "190               South Africa\n",
      "195                      Italy\n",
      "240                     Sweden\n",
      "277                   Colombia\n",
      "319                     Latvia\n",
      "334                    Romania\n",
      "350                    Belgium\n",
      "386                New Zealand\n",
      "390                   Zimbabwe\n",
      "409                      Spain\n",
      "418                    Finland\n",
      "421                    Uruguay\n",
      "488                     Israel\n",
      "523     Bosnia and Herzegovina\n",
      "532                    Hungary\n",
      "584                  Singapore\n",
      "639                      Japan\n",
      "655                    Nigeria\n",
      "729                    Croatia\n",
      "750                     Norway\n",
      "753                   Thailand\n",
      "819                    Denmark\n",
      "989               Bahamas, The\n",
      "1069                    Greece\n",
      "1140                   Moldova\n",
      "1174                   Georgia\n",
      "1178                     China\n",
      "1208            Czech Republic\n",
      "1213               Philippines\n",
      "Name: Country, dtype: object\n"
     ]
    }
   ],
   "source": [
    "##Print Country\n",
    "print(unique_Country)"
   ]
  },
  {
   "cell_type": "code",
   "execution_count": 6,
   "metadata": {},
   "outputs": [],
   "source": [
    "country_df = raw_data[raw_data[\"Country\"] == \"France\"]"
   ]
  },
  {
   "cell_type": "code",
   "execution_count": 7,
   "metadata": {},
   "outputs": [
    {
     "name": "stdout",
     "output_type": "stream",
     "text": [
      "             Timestamp  Age Gender Country state self_employed family_history  \\\n",
      "19    2014-08-27 11:35   36   Male  France   NaN           Yes            Yes   \n",
      "63    2014-08-27 11:50   26   Male  France   NaN            No             No   \n",
      "70    2014-08-27 11:53   28      m  France   NaN            No             No   \n",
      "187   2014-08-27 12:53   26   Male  France   NaN            No             No   \n",
      "468   2014-08-27 16:10   26   male  France   NaN            No             No   \n",
      "669    2014-08-28 7:01   43   male  France   NaN            No             No   \n",
      "696    2014-08-28 9:56   37   Male  France   NaN            No             No   \n",
      "698    2014-08-28 9:56   31   male  France   NaN            No             No   \n",
      "711   2014-08-28 10:04   27   male  France   NaN            No             No   \n",
      "731   2014-08-28 10:30   24   Male  France   NaN            No             No   \n",
      "977    2014-08-29 8:53   27   Male  France   NaN            No            Yes   \n",
      "1106   2014-08-30 3:55   50   male  France   NaN           Yes             No   \n",
      "1111  2014-08-30 11:48   29      M  France   NaN            No             No   \n",
      "\n",
      "     treatment work_interfere no_employees  ...          leave  \\\n",
      "19          No            NaN       25-Jun  ...  Somewhat easy   \n",
      "63          No            NaN       26-100  ...      Very easy   \n",
      "70          No          Never       26-100  ...     Don't know   \n",
      "187         No            NaN       25-Jun  ...  Somewhat easy   \n",
      "468         No          Never       25-Jun  ...     Don't know   \n",
      "669         No            NaN      100-500  ...     Don't know   \n",
      "696         No            NaN      100-500  ...  Somewhat easy   \n",
      "698         No            NaN     500-1000  ...     Don't know   \n",
      "711         No            NaN       25-Jun  ...     Don't know   \n",
      "731         No            NaN       26-100  ...     Don't know   \n",
      "977         No            NaN     500-1000  ...  Somewhat easy   \n",
      "1106       Yes      Sometimes       26-100  ...     Don't know   \n",
      "1111       Yes          Often       25-Jun  ...  Somewhat easy   \n",
      "\n",
      "     mental_health_consequence phys_health_consequence     coworkers  \\\n",
      "19                          No                      No  Some of them   \n",
      "63                         Yes                      No            No   \n",
      "70                       Maybe                      No  Some of them   \n",
      "187                         No                      No  Some of them   \n",
      "468                      Maybe                      No           Yes   \n",
      "669                         No                      No  Some of them   \n",
      "696                      Maybe                   Maybe  Some of them   \n",
      "698                      Maybe                   Maybe  Some of them   \n",
      "711                         No                      No           Yes   \n",
      "731                      Maybe                      No           Yes   \n",
      "977                      Maybe                   Maybe            No   \n",
      "1106                     Maybe                   Maybe  Some of them   \n",
      "1111                     Maybe                   Maybe           Yes   \n",
      "\n",
      "        supervisor mental_health_interview phys_health_interview  \\\n",
      "19    Some of them                   Maybe                 Maybe   \n",
      "63              No                      No                    No   \n",
      "70    Some of them                      No                    No   \n",
      "187             No                      No                 Maybe   \n",
      "468            Yes                   Maybe                 Maybe   \n",
      "669            Yes                   Maybe                 Maybe   \n",
      "696   Some of them                      No                 Maybe   \n",
      "698             No                      No                    No   \n",
      "711            Yes                      No                    No   \n",
      "731   Some of them                      No                    No   \n",
      "977   Some of them                      No                 Maybe   \n",
      "1106           Yes                      No                    No   \n",
      "1111  Some of them                      No                   Yes   \n",
      "\n",
      "     mental_vs_physical obs_consequence comments  \n",
      "19           Don't know              No      NaN  \n",
      "63                   No             Yes      NaN  \n",
      "70           Don't know              No      NaN  \n",
      "187                 Yes              No      NaN  \n",
      "468                  No              No      NaN  \n",
      "669          Don't know              No      NaN  \n",
      "696                  No              No      NaN  \n",
      "698                 Yes              No      NaN  \n",
      "711                 Yes              No      NaN  \n",
      "731          Don't know              No      NaN  \n",
      "977          Don't know             Yes      NaN  \n",
      "1106         Don't know              No      NaN  \n",
      "1111                 No              No      NaN  \n",
      "\n",
      "[13 rows x 27 columns]\n"
     ]
    }
   ],
   "source": [
    "print(country_df)"
   ]
  },
  {
   "cell_type": "code",
   "execution_count": 12,
   "metadata": {},
   "outputs": [
    {
     "name": "stdout",
     "output_type": "stream",
     "text": [
      "['Male' 'm' 'male' 'M']\n"
     ]
    }
   ],
   "source": [
    "country_df_hist = country_df[[\"Age\", \"Gender\",\"mental_health_consequence\"]]\n",
    "\n",
    "print(country_df_hist.Gender.unique())\n",
    "# country_df_hist.groupby([\"Gender\", \"mental_health_consequence\"])[\"Age\"].count().reset_index()"
   ]
  },
  {
   "cell_type": "code",
   "execution_count": 9,
   "metadata": {},
   "outputs": [
    {
     "name": "stdout",
     "output_type": "stream",
     "text": [
      "      Age Gender mental_health_consequence\n",
      "19     36   Male                        No\n",
      "63     26   Male                       Yes\n",
      "70     28      m                     Maybe\n",
      "187    26   Male                        No\n",
      "468    26   male                     Maybe\n",
      "669    43   male                        No\n",
      "696    37   Male                     Maybe\n",
      "698    31   male                     Maybe\n",
      "711    27   male                        No\n",
      "731    24   Male                     Maybe\n",
      "977    27   Male                     Maybe\n",
      "1106   50   male                     Maybe\n",
      "1111   29      M                     Maybe\n"
     ]
    }
   ],
   "source": [
    "print(country_df_hist)"
   ]
  },
  {
   "cell_type": "code",
   "execution_count": 10,
   "metadata": {},
   "outputs": [
    {
     "data": {
      "text/plain": [
       "array([[<matplotlib.axes._subplots.AxesSubplot object at 0x0000018BD5970108>]],\n",
       "      dtype=object)"
      ]
     },
     "execution_count": 10,
     "metadata": {},
     "output_type": "execute_result"
    }
   ],
   "source": [
    "country_df_hist.hist()"
   ]
  },
  {
   "cell_type": "code",
   "execution_count": 11,
   "metadata": {},
   "outputs": [
    {
     "name": "stdout",
     "output_type": "stream",
     "text": [
      "      Age Gender mental_health_consequence\n",
      "1106   50   male                     Maybe\n",
      "669    43   male                        No\n",
      "696    37   Male                     Maybe\n",
      "19     36   Male                        No\n",
      "698    31   male                     Maybe\n",
      "1111   29      M                     Maybe\n",
      "70     28      m                     Maybe\n",
      "711    27   male                        No\n",
      "977    27   Male                     Maybe\n",
      "63     26   Male                       Yes\n",
      "187    26   Male                        No\n",
      "468    26   male                     Maybe\n",
      "731    24   Male                     Maybe\n"
     ]
    }
   ],
   "source": [
    "print(country_df_hist.sort_values(\"Age\", ascending = False))"
   ]
  }
 ],
 "metadata": {
  "kernelspec": {
   "display_name": "Python 3",
   "language": "python",
   "name": "python3"
  },
  "language_info": {
   "codemirror_mode": {
    "name": "ipython",
    "version": 3
   },
   "file_extension": ".py",
   "mimetype": "text/x-python",
   "name": "python",
   "nbconvert_exporter": "python",
   "pygments_lexer": "ipython3",
   "version": "3.7.4"
  }
 },
 "nbformat": 4,
 "nbformat_minor": 2
}
