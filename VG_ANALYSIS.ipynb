{
 "cells": [
  {
   "cell_type": "code",
   "execution_count": 1,
   "metadata": {},
   "outputs": [],
   "source": [
    "import pandas as pd\n"
   ]
  },
  {
   "cell_type": "code",
   "execution_count": 3,
   "metadata": {},
   "outputs": [],
   "source": [
    "raw_data = pd.read_csv(\"video_game_sales.csv\")"
   ]
  },
  {
   "cell_type": "code",
   "execution_count": 4,
   "metadata": {},
   "outputs": [
    {
     "name": "stdout",
     "output_type": "stream",
     "text": [
      "    Rank                                    Name Platform  Year         Genre  \\\n",
      "0      1                              Wii Sports      Wii  2006        Sports   \n",
      "1      2                       Super Mario Bros.      NES  1985      Platform   \n",
      "2      3                          Mario Kart Wii      Wii  2008        Racing   \n",
      "3      4                       Wii Sports Resort      Wii  2009        Sports   \n",
      "4      5                Pokemon Red/Pokemon Blue       GB  1996  Role-Playing   \n",
      "..   ...                                     ...      ...   ...           ...   \n",
      "95    96  Crash Bandicoot 2: Cortex Strikes Back       PS  1997      Platform   \n",
      "96    97                     Super Mario Bros. 2      NES  1988      Platform   \n",
      "97    98     Super Smash Bros. for Wii U and 3DS      3DS  2014      Fighting   \n",
      "98    99              Call of Duty: World at War     X360  2008       Shooter   \n",
      "99   100                           Battlefield 3     X360  2011       Shooter   \n",
      "\n",
      "                      Publisher  NA_Sales  EU_Sales  JP_Sales  Other_Sales  \\\n",
      "0                      Nintendo     41.49     29.02      3.77         8.46   \n",
      "1                      Nintendo     29.08      3.58      6.81         0.77   \n",
      "2                      Nintendo     15.85     12.88      3.79         3.31   \n",
      "3                      Nintendo     15.75     11.01      3.28         2.96   \n",
      "4                      Nintendo     11.27      8.89     10.22         1.00   \n",
      "..                          ...       ...       ...       ...          ...   \n",
      "95  Sony Computer Entertainment      3.78      2.17      1.31         0.31   \n",
      "96                     Nintendo      5.39      1.18      0.70         0.19   \n",
      "97                     Nintendo      3.24      1.35      2.42         0.43   \n",
      "98                   Activision      4.79      1.90      0.00         0.69   \n",
      "99              Electronic Arts      4.46      2.13      0.06         0.69   \n",
      "\n",
      "    Global_Sales  \n",
      "0          82.74  \n",
      "1          40.24  \n",
      "2          35.82  \n",
      "3          33.00  \n",
      "4          31.37  \n",
      "..           ...  \n",
      "95          7.58  \n",
      "96          7.46  \n",
      "97          7.45  \n",
      "98          7.37  \n",
      "99          7.34  \n",
      "\n",
      "[100 rows x 11 columns]\n"
     ]
    }
   ],
   "source": [
    "print(raw_data)"
   ]
  },
  {
   "cell_type": "code",
   "execution_count": null,
   "metadata": {},
   "outputs": [],
   "source": []
  }
 ],
 "metadata": {
  "kernelspec": {
   "display_name": "Python 3",
   "language": "python",
   "name": "python3"
  },
  "language_info": {
   "codemirror_mode": {
    "name": "ipython",
    "version": 3
   },
   "file_extension": ".py",
   "mimetype": "text/x-python",
   "name": "python",
   "nbconvert_exporter": "python",
   "pygments_lexer": "ipython3",
   "version": "3.7.4"
  }
 },
 "nbformat": 4,
 "nbformat_minor": 2
}
